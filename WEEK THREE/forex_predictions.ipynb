{
 "cells": [
  {
   "cell_type": "code",
   "execution_count": null,
   "id": "ef3d59db",
   "metadata": {},
   "outputs": [],
   "source": [
    "#forex prediction data analysis\n",
    "#OBJECTIVES.\n",
    "#1.load and preprocess the dataset\n",
    "#2.inspect the data for empty values , wrong data types, wrong formats, duplicates and outliers\n",
    "#3.Analyse the data to find pattrens and relationships\n",
    "#4.visualize the data to understand trends and distributions\n",
    "#5.Evaluate the model performance using appropriate metrics\n",
    "#6.Identify patterns and correlation in EUR/USD exchange rates movements\n",
    "#7. save the cleaned and processed data for the future"
   ]
  },
  {
   "cell_type": "code",
   "execution_count": null,
   "id": "14d2a7d8",
   "metadata": {},
   "outputs": [],
   "source": []
  }
 ],
 "metadata": {
  "language_info": {
   "name": "python"
  }
 },
 "nbformat": 4,
 "nbformat_minor": 5
}
