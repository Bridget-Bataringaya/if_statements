{
 "cells": [
  {
   "cell_type": "code",
   "execution_count": null,
   "id": "ef3d59db",
   "metadata": {},
   "outputs": [],
   "source": [
    "#forex prediction data analysis\n",
    "#OBJECTIVES.\n",
    "#1.load and preprocess the dataset\n",
    "#2.inspect the data for empty values , wrong data types, wrong formats, duplicates and outliers\n",
    "#3.Analyse the data to find pattrens and relationships\n",
    "#4.visualize the data to understand trends and distributions\n",
    "#5.Evaluate the model performance using appropriate metrics\n",
    "#6.Identify patterns and correlation in EUR/USD exchange rates movements\n",
    "#7. save the cleaned and processed data for the future"
   ]
  },
  {
   "cell_type": "code",
   "execution_count": 3,
   "id": "14d2a7d8",
   "metadata": {},
   "outputs": [],
   "source": [
    "#import necessary libraries\n",
    "import pandas as pd\n",
    "import numpy as np\n",
    "import matplotlib.pyplot as plt\n",
    "import seaborn as sns\n",
    "import datetime\n",
    " "
   ]
  },
  {
   "cell_type": "code",
   "execution_count": null,
   "id": "d8fc8bd8",
   "metadata": {},
   "outputs": [],
   "source": [
    "#load the "
   ]
  }
 ],
 "metadata": {
  "kernelspec": {
   "display_name": "Python 3",
   "language": "python",
   "name": "python3"
  },
  "language_info": {
   "codemirror_mode": {
    "name": "ipython",
    "version": 3
   },
   "file_extension": ".py",
   "mimetype": "text/x-python",
   "name": "python",
   "nbconvert_exporter": "python",
   "pygments_lexer": "ipython3",
   "version": "3.12.9"
  }
 },
 "nbformat": 4,
 "nbformat_minor": 5
}
