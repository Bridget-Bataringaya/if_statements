{
 "cells": [
  {
   "cell_type": "code",
   "execution_count": null,
   "id": "53b990fe",
   "metadata": {},
   "outputs": [],
   "source": [
    "#handling csv files with python's built-in csv module\n",
    "#what is csv(comma separated version)(data in tables)"
   ]
  },
  {
   "cell_type": "code",
   "execution_count": 3,
   "id": "9301ac72",
   "metadata": {},
   "outputs": [
    {
     "name": "stdout",
     "output_type": "stream",
     "text": [
      "<class 'pandas.core.frame.DataFrame'>\n",
      "RangeIndex: 169 entries, 0 to 168\n",
      "Data columns (total 4 columns):\n",
      " #   Column    Non-Null Count  Dtype  \n",
      "---  ------    --------------  -----  \n",
      " 0   Duration  169 non-null    int64  \n",
      " 1   Pulse     169 non-null    int64  \n",
      " 2   Maxpulse  169 non-null    int64  \n",
      " 3   Calories  164 non-null    float64\n",
      "dtypes: float64(1), int64(3)\n",
      "memory usage: 5.4 KB\n"
     ]
    }
   ],
   "source": [
    "#read csv file\n",
    "#pandas\n",
    "#numpy\n",
    "import pandas as pd\n",
    "import numpy as np\n",
    "\n",
    "#read csv file using pandas\n",
    "df = pd.read_csv('data.csv')\n",
    "\n",
    "#display basic info\n",
    "df .info()\n"
   ]
  }
 ],
 "metadata": {
  "kernelspec": {
   "display_name": "Python 3",
   "language": "python",
   "name": "python3"
  },
  "language_info": {
   "codemirror_mode": {
    "name": "ipython",
    "version": 3
   },
   "file_extension": ".py",
   "mimetype": "text/x-python",
   "name": "python",
   "nbconvert_exporter": "python",
   "pygments_lexer": "ipython3",
   "version": "3.12.9"
  }
 },
 "nbformat": 4,
 "nbformat_minor": 5
}
