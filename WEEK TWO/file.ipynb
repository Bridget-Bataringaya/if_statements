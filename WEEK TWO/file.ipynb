{
 "cells": [
  {
   "cell_type": "code",
   "execution_count": null,
   "id": "0fa6c969",
   "metadata": {},
   "outputs": [],
   "source": [
    "#reading and writing files\n",
    "#Opening a file in read mode\n",
    "file = open(\"bridget.txt\", \"r\")  #Reading the entire content of the file"
   ]
  },
  {
   "cell_type": "code",
   "execution_count": 2,
   "id": "53007e5b",
   "metadata": {},
   "outputs": [
    {
     "name": "stdout",
     "output_type": "stream",
     "text": [
      "working with text files\n"
     ]
    }
   ],
   "source": [
    "#reading the content of the file\n",
    "content = file.read()\n",
    "\n",
    "#print the content\n",
    "print(content)\n",
    "\n",
    "#  close the file\n",
    "file.close()"
   ]
  }
 ],
 "metadata": {
  "kernelspec": {
   "display_name": "Python 3",
   "language": "python",
   "name": "python3"
  },
  "language_info": {
   "codemirror_mode": {
    "name": "ipython",
    "version": 3
   },
   "file_extension": ".py",
   "mimetype": "text/x-python",
   "name": "python",
   "nbconvert_exporter": "python",
   "pygments_lexer": "ipython3",
   "version": "3.12.9"
  }
 },
 "nbformat": 4,
 "nbformat_minor": 5
}
