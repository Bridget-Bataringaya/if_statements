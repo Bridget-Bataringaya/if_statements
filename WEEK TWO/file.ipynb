{
 "cells": [
  {
   "cell_type": "code",
   "execution_count": null,
   "id": "0fa6c969",
   "metadata": {},
   "outputs": [],
   "source": [
    "#reading and writing files\n",
    "#Opening a file in read mode\n",
    "file = open(\"bridget.txt\", \"r\")  #Reading the entire content of the file"
   ]
  },
  {
   "cell_type": "code",
   "execution_count": 2,
   "id": "53007e5b",
   "metadata": {},
   "outputs": [
    {
     "name": "stdout",
     "output_type": "stream",
     "text": [
      "working with text files\n"
     ]
    }
   ],
   "source": [
    "#reading the content of the file\n",
    "content = file.read()\n",
    "\n",
    "#print the content\n",
    "print(content)\n",
    "\n",
    "#  close the file\n",
    "file.close()"
   ]
  },
  {
   "cell_type": "code",
   "execution_count": 8,
   "id": "aa47b204",
   "metadata": {},
   "outputs": [],
   "source": [
    "#writing to a  file\n",
    "with open(\"bata.txt\", \"w\") as file:\n",
    "    #write a string to the file\n",
    "    file.write(\"welcome to writng to a file .\\n\")\n",
    "    \n",
    "    #adding another line\n",
    "    file.write(\"i am bridget bataringaya trying to learn data science\")"
   ]
  },
  {
   "cell_type": "code",
   "execution_count": 10,
   "id": "94f5f1bf",
   "metadata": {},
   "outputs": [
    {
     "name": "stdout",
     "output_type": "stream",
     "text": [
      "welcome to writng to a file .\n",
      "i am bridget bataringaya trying to learn data sciencei love python .\n",
      "i love python .\n",
      "\n"
     ]
    }
   ],
   "source": [
    "with open(\"bata.txt\", \"a\") as file:\n",
    "    #write a string to the file\n",
    "    file.write(\"i love python .\\n\")\n",
    "    \n",
    "    file = open(\"bata.txt\", \"r\")  #Reading the entire content of the file\n",
    "    #reading the content of the file\n",
    "content = file.read()\n",
    "\n",
    "#print the content\n",
    "print(content)\n",
    "\n",
    "#  close the file\n",
    "file.close()\n",
    "    "
   ]
  },
  {
   "cell_type": "code",
   "execution_count": 1,
   "id": "cb7c7cd3",
   "metadata": {},
   "outputs": [
    {
     "name": "stdout",
     "output_type": "stream",
     "text": [
      "Matplotlib version: 3.10.3\n"
     ]
    }
   ],
   "source": [
    "import matplotlib\n",
    "print(\"Matplotlib version:\", matplotlib.__version__)\n"
   ]
  }
 ],
 "metadata": {
  "kernelspec": {
   "display_name": "Python 3",
   "language": "python",
   "name": "python3"
  },
  "language_info": {
   "codemirror_mode": {
    "name": "ipython",
    "version": 3
   },
   "file_extension": ".py",
   "mimetype": "text/x-python",
   "name": "python",
   "nbconvert_exporter": "python",
   "pygments_lexer": "ipython3",
   "version": "3.12.9"
  }
 },
 "nbformat": 4,
 "nbformat_minor": 5
}
